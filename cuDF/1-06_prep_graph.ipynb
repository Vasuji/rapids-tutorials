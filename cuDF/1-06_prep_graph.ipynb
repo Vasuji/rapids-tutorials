{
 "cells": [
  {
   "cell_type": "markdown",
   "metadata": {},
   "source": [
    "# Preparing Data for Graph Construction"
   ]
  },
  {
   "cell_type": "markdown",
   "metadata": {},
   "source": [
    "As part of our larger data science goal for this workshop, we will be working with data reflecting the entire road network of Great Britain. We have as a starting point road data extracted into tabular csv format from official [GML](https://en.wikipedia.org/wiki/Geography_Markup_Language) files. Ultimately, we would like to use cuGraph to perform GPU-accelerated graph analytics on this data, but in order to do so, we need to do some preprocessing to get it ready for graph creation.\n",
    "\n",
    "In this notebook you will be learning additional cuDF data transformation techniques, including the use of merges, in a demonstration of prepping the initial data for ingestion by cuGraph. Next, you will do a series of exercises to perform a similar transformation of the data for the creation of a graph with different edge weights."
   ]
  },
  {
   "cell_type": "markdown",
   "metadata": {},
   "source": [
    "## Objectives"
   ]
  },
  {
   "cell_type": "markdown",
   "metadata": {},
   "source": [
    "By the time you complete this notebook you will be able to:\n",
    "\n",
    "- Perform GPU-accelerated merge operations with cuDF\n",
    "- Prepare data for cuGraph ingest\n",
    "- Create a GPU-accelerated graph"
   ]
  },
  {
   "cell_type": "markdown",
   "metadata": {},
   "source": [
    "## Imports"
   ]
  },
  {
   "cell_type": "markdown",
   "metadata": {},
   "source": [
    "In addition to `cudf`, for this notebook we will also import `cugraph`, which we will use (after data preparation) to construct a GPU-accelerated graph. We also import `networkx` for a brief performance comparison later on."
   ]
  },
  {
   "cell_type": "code",
   "execution_count": null,
   "metadata": {},
   "outputs": [],
   "source": [
    "import cudf\n",
    "import cugraph as cg\n",
    "\n",
    "import networkx as nx"
   ]
  },
  {
   "cell_type": "markdown",
   "metadata": {},
   "source": [
    "## Read Data"
   ]
  },
  {
   "cell_type": "markdown",
   "metadata": {},
   "source": [
    "In this notebook we will be working with two data sources that will help us create a graph of the UK's road networks."
   ]
  },
  {
   "cell_type": "markdown",
   "metadata": {},
   "source": [
    "### UK Road Nodes"
   ]
  },
  {
   "cell_type": "markdown",
   "metadata": {},
   "source": [
    "The first data table describes the nodes in the road network: endpoints, junctions (including roundabouts), and points that break up a long stretch of curving road so that it can be mapped correctly (instead of as a straight line).\n",
    "\n",
    "The coordinates for each point are in the OSGB36 format we explored earlier in section 1-05."
   ]
  },
  {
   "cell_type": "code",
   "execution_count": null,
   "metadata": {},
   "outputs": [],
   "source": [
    "road_nodes = cudf.read_csv('./data/road_nodes_1-06.csv')\n",
    "road_nodes.head()"
   ]
  },
  {
   "cell_type": "code",
   "execution_count": null,
   "metadata": {},
   "outputs": [],
   "source": [
    "road_nodes.dtypes"
   ]
  },
  {
   "cell_type": "code",
   "execution_count": null,
   "metadata": {},
   "outputs": [],
   "source": [
    "road_nodes.shape"
   ]
  },
  {
   "cell_type": "code",
   "execution_count": null,
   "metadata": {},
   "outputs": [],
   "source": [
    "road_nodes['type'].unique()"
   ]
  },
  {
   "cell_type": "markdown",
   "metadata": {},
   "source": [
    "### UK Road Edges"
   ]
  },
  {
   "cell_type": "markdown",
   "metadata": {},
   "source": [
    "The second data table describes road segments, including their start and end points, how long they are, and what kind of road they are."
   ]
  },
  {
   "cell_type": "code",
   "execution_count": null,
   "metadata": {},
   "outputs": [],
   "source": [
    "road_edges = cudf.read_csv('./data/road_edges_1-06.csv')\n",
    "road_edges.head()"
   ]
  },
  {
   "cell_type": "code",
   "execution_count": null,
   "metadata": {},
   "outputs": [],
   "source": [
    "road_edges.dtypes"
   ]
  },
  {
   "cell_type": "code",
   "execution_count": null,
   "metadata": {},
   "outputs": [],
   "source": [
    "road_edges.shape"
   ]
  },
  {
   "cell_type": "code",
   "execution_count": null,
   "metadata": {},
   "outputs": [],
   "source": [
    "road_edges['type'].unique()"
   ]
  },
  {
   "cell_type": "code",
   "execution_count": null,
   "metadata": {},
   "outputs": [],
   "source": [
    "road_edges['form'].unique()"
   ]
  },
  {
   "cell_type": "markdown",
   "metadata": {},
   "source": [
    "## Exercise: Make IDs Compatible"
   ]
  },
  {
   "cell_type": "markdown",
   "metadata": {},
   "source": [
    "Our csv files were derived from original [GML](https://en.wikipedia.org/wiki/Geography_Markup_Language) files, and as you can see from the above, both `road_edges['src_id']` and `road_edges['dst_id']` contain a leading `#` character that `road_nodes['node_id']` does not. To make the IDs compatible between the edges and nodes, use cuDF's [string method](https://docs.rapids.ai/api/nvstrings/stable/) `.str.lstrip` to replace the `src_id` and `dst_id` columns in `road_edges` with values stripped of the leading `#` characters."
   ]
  },
  {
   "cell_type": "code",
   "execution_count": null,
   "metadata": {},
   "outputs": [],
   "source": []
  },
  {
   "cell_type": "markdown",
   "metadata": {},
   "source": [
    "### Solution"
   ]
  },
  {
   "cell_type": "code",
   "execution_count": null,
   "metadata": {},
   "outputs": [],
   "source": [
    "%load solutions/make_ids_compatible"
   ]
  },
  {
   "cell_type": "markdown",
   "metadata": {},
   "source": [
    "## Exercise: Remove Duplicates"
   ]
  },
  {
   "cell_type": "markdown",
   "metadata": {},
   "source": [
    "Our data originally came from multiple map tiles, and roads which crossed a tile boundary were captured in both the tile from which they started and the tile on which they ended.\n",
    "\n",
    "Use the `drop_duplicates` method for both `road_nodes` and `road_edges` to remove these duplicate values, and `reset_index` with the parameter `drop=True` to give the new dataframes a contiguous range index."
   ]
  },
  {
   "cell_type": "code",
   "execution_count": null,
   "metadata": {},
   "outputs": [],
   "source": []
  },
  {
   "cell_type": "markdown",
   "metadata": {},
   "source": [
    "#### Solution"
   ]
  },
  {
   "cell_type": "code",
   "execution_count": null,
   "metadata": {},
   "outputs": [],
   "source": [
    "%load solutions/remove_duplicates"
   ]
  },
  {
   "cell_type": "markdown",
   "metadata": {},
   "source": [
    "## Data Summary"
   ]
  },
  {
   "cell_type": "markdown",
   "metadata": {},
   "source": [
    "Now that the data is cleaned we can see just how many roads and endpoints/junctions/curve points we will be working with, as well as its memory footprint in our GPU."
   ]
  },
  {
   "cell_type": "code",
   "execution_count": null,
   "metadata": {},
   "outputs": [],
   "source": [
    "print(f'{road_edges.shape[0]} edges, {road_nodes.shape[0]} nodes')"
   ]
  },
  {
   "cell_type": "code",
   "execution_count": null,
   "metadata": {},
   "outputs": [],
   "source": [
    "!nvidia-smi"
   ]
  },
  {
   "cell_type": "markdown",
   "metadata": {},
   "source": [
    "## Prep Data for Building the Road Network Graph"
   ]
  },
  {
   "cell_type": "markdown",
   "metadata": {},
   "source": [
    "The cuGraph graph constructor that we will be using later expects edge sources, edge destinations, and (optionally) edge weights. Edge sources and destinations must be a compact interval of 32-bit integers from 0 to *N*-1, where *N* is the number of nodes in the graph.\n",
    "\n",
    "Furthermore, in RAPIDS v0.12, undirected edges in cuGraph must be stored as directed edges in both directions. Since our data does not indicate one-way roads, we will assume that all roads can be treated as two-way (undirected).\n",
    "\n",
    "These constraints will require some preparation, but they allow for the blazing-fast analytics we will be exploring later.\n",
    "\n",
    "As it stands, and contrary to our needs, our `road_edges` dataframe consists of `src_id` and `dst_id` strings which match `node_id` values in the `road_nodes`. Furthermore, our road edges are recorded as going from one source to one destination even when they are two-way roads."
   ]
  },
  {
   "cell_type": "code",
   "execution_count": null,
   "metadata": {},
   "outputs": [],
   "source": [
    "road_edges[['src_id', 'dst_id']].dtypes"
   ]
  },
  {
   "cell_type": "code",
   "execution_count": null,
   "metadata": {},
   "outputs": [],
   "source": [
    "road_edges['src_id'][0]"
   ]
  },
  {
   "cell_type": "code",
   "execution_count": null,
   "metadata": {},
   "outputs": [],
   "source": [
    "road_edges['dst_id'][0]"
   ]
  },
  {
   "cell_type": "code",
   "execution_count": null,
   "metadata": {},
   "outputs": [],
   "source": [
    "road_nodes['node_id'].dtype"
   ]
  },
  {
   "cell_type": "code",
   "execution_count": null,
   "metadata": {},
   "outputs": [],
   "source": [
    "road_nodes['node_id'][0]"
   ]
  },
  {
   "cell_type": "markdown",
   "metadata": {},
   "source": [
    "In order to prepare our data for constructing a graph with cuGraph, we will do the following:\n",
    "\n",
    "1. Create a unique int32 value for each `node_id`, which we will call that node's `graph_id`, and save the mapping from `node_id` to `graph_id`. Whenever we get results from analyzing the graph, we can use the mapping to look up which original node corresponding to that `graph_id`.\n",
    "2. Use the mapping to update `road_edges` with `graph_id`s for each edge's start and end points. We will ultimately call the mapped source points `graph_src` and the destination points `graph_dst`.\n",
    "3. Create a new dataframe with the same edges, but with swapped source and destination points, then concatenate that swapped dataframe to the original and deduplicate (so that each road will be treated in the graph as two-way)."
   ]
  },
  {
   "cell_type": "markdown",
   "metadata": {},
   "source": [
    "### Create `graph_id`s"
   ]
  },
  {
   "cell_type": "markdown",
   "metadata": {},
   "source": [
    "The dataframe method `factorize` produces both an integer labeling of the `node_id` values and the mapping series that reflects that labeling."
   ]
  },
  {
   "cell_type": "code",
   "execution_count": null,
   "metadata": {},
   "outputs": [],
   "source": [
    "all_node_ids = road_edges['src_id'].append(road_edges['dst_id'], ignore_index=True) # ignore_index to prevent index overlap\n",
    "graph_ids, mapping_series = all_node_ids.factorize()\n",
    "mapping_series.head()"
   ]
  },
  {
   "cell_type": "markdown",
   "metadata": {},
   "source": [
    "### Reattach `graph_id`s onto `road_edges`"
   ]
  },
  {
   "cell_type": "markdown",
   "metadata": {},
   "source": [
    "We now need to add `graph_id` columns into `road_edges` twice: once to create a new source ID column, and again to create a new destination ID column. Because we preserved the order of the `src_id` and `dst_id` columns when sending them to `factorize`, we can simply split the resulting `graph_id`s in half and attach them back to `road_edges`."
   ]
  },
  {
   "cell_type": "code",
   "execution_count": null,
   "metadata": {},
   "outputs": [],
   "source": [
    "half_index = int((all_node_ids.shape[0]/2))\n",
    "road_edges['graph_src'] = graph_ids.iloc[:half_index]\n",
    "road_edges['graph_dst'] = graph_ids.iloc[half_index:].reset_index(drop=True) # reset_index to reverse the ignore_index above\n",
    "road_edges.head()"
   ]
  },
  {
   "cell_type": "markdown",
   "metadata": {},
   "source": [
    "### Merge `graph_id` into `road_nodes`"
   ]
  },
  {
   "cell_type": "markdown",
   "metadata": {},
   "source": [
    "cuDF provides merging functionality just like Pandas. Even though we don't directly need `road_nodes` to construct our graph, we will need it later in the workshop to geospatially analyze where the roads are.\n",
    "\n",
    "Since we will join the mapping to `road_nodes` via the `node_id` column, we convert the mapping's index to a `graph_id` column."
   ]
  },
  {
   "cell_type": "code",
   "execution_count": null,
   "metadata": {},
   "outputs": [],
   "source": [
    "node_id_to_graph_id_mapping = cudf.DataFrame()\n",
    "node_id_to_graph_id_mapping['node_id'] = mapping_series\n",
    "node_id_to_graph_id_mapping['graph_id'] = cudf.Series(mapping_series.index)\n",
    "node_id_to_graph_id_mapping.head()"
   ]
  },
  {
   "cell_type": "markdown",
   "metadata": {},
   "source": [
    "We now add the `graph_id` column to `road_nodes` by performing a merge:"
   ]
  },
  {
   "cell_type": "code",
   "execution_count": null,
   "metadata": {},
   "outputs": [],
   "source": [
    "%time road_nodes = road_nodes.merge(node_id_to_graph_id_mapping, on='node_id', how='left')\n",
    "road_nodes.head()"
   ]
  },
  {
   "cell_type": "markdown",
   "metadata": {},
   "source": [
    "#### Reindex `road_nodes`"
   ]
  },
  {
   "cell_type": "markdown",
   "metadata": {},
   "source": [
    "For efficient lookup later, we will reindex `road_nodes` to use the `graph_id` as its index - remember, we will typically get results from the graph analytics in terms of `graph_id`s, so this lets us easily pull other information about the nodes (like their locations). We then sort the dataframe on this new index:"
   ]
  },
  {
   "cell_type": "code",
   "execution_count": null,
   "metadata": {},
   "outputs": [],
   "source": [
    "road_nodes = road_nodes.set_index('graph_id', drop=True)\n",
    "%time road_nodes = road_nodes.sort_index()\n",
    "road_nodes.head()"
   ]
  },
  {
   "cell_type": "markdown",
   "metadata": {},
   "source": [
    "### Build Dataframe with Columns Needed for Graph Construction"
   ]
  },
  {
   "cell_type": "markdown",
   "metadata": {},
   "source": [
    "Before making our graph data undirected, let's construct a smaller dataframe with only the columns we will need to give to the cuGraph constructor so we can avoid repeatedly moving unnecessary data:"
   ]
  },
  {
   "cell_type": "code",
   "execution_count": null,
   "metadata": {},
   "outputs": [],
   "source": [
    "graph_prep = cudf.DataFrame()\n",
    "graph_prep['src']    = road_edges['graph_src']\n",
    "graph_prep['dst']    = road_edges['graph_dst']\n",
    "graph_prep['length'] = road_edges['length'].astype('float32') # cuGraph expects edge weights as floating points\n",
    "print(graph_prep.shape)\n",
    "graph_prep.dtypes"
   ]
  },
  {
   "cell_type": "markdown",
   "metadata": {},
   "source": [
    "### Make Graph Undirected"
   ]
  },
  {
   "cell_type": "markdown",
   "metadata": {},
   "source": [
    "We now make our graph undirected by creating a new dataframe with sources and destinations swapped, concatenating that new dataframe to `graph_prep`:"
   ]
  },
  {
   "cell_type": "code",
   "execution_count": null,
   "metadata": {},
   "outputs": [],
   "source": [
    "rev_gdf = cudf.DataFrame()\n",
    "\n",
    "rev_gdf['src'] = graph_prep['dst']\n",
    "rev_gdf['dst'] = graph_prep['src']\n",
    "rev_gdf['length'] = graph_prep['length']\n",
    "\n",
    "graph_prep = cudf.concat([graph_prep, rev_gdf], \n",
    "                          ignore_index=True)\n",
    "graph_prep.shape"
   ]
  },
  {
   "cell_type": "markdown",
   "metadata": {},
   "source": [
    "While it's possible to have road edges with the same starting and ending nodes but different lengths (say, a loop that breaks off from and rejoins a main road), for simplicity we will deduplicate the edge list while ignoring `length` so that there is only one (undirected) edge between each pair of connected nodes."
   ]
  },
  {
   "cell_type": "code",
   "execution_count": null,
   "metadata": {},
   "outputs": [],
   "source": [
    "graph_prep.drop_duplicates(subset=['src', 'dst'], inplace=True)\n",
    "graph_prep.shape"
   ]
  },
  {
   "cell_type": "markdown",
   "metadata": {},
   "source": [
    "Let's confirm `graph_prep` contains a compact interval of int32 IDs:"
   ]
  },
  {
   "cell_type": "code",
   "execution_count": null,
   "metadata": {},
   "outputs": [],
   "source": [
    "# The min src or dst ID is 0\n",
    "graph_prep[['src', 'dst']].min().min() == 0"
   ]
  },
  {
   "cell_type": "code",
   "execution_count": null,
   "metadata": {},
   "outputs": [],
   "source": [
    "# The max src or dst id is the number of nodes - 1\n",
    "graph_prep[['src', 'dst']].max().max() == road_nodes['node_id'].unique().shape[0] - 1"
   ]
  },
  {
   "cell_type": "code",
   "execution_count": null,
   "metadata": {},
   "outputs": [],
   "source": [
    "# The ID dtypes are int32s\n",
    "graph_prep[['src', 'dst']].dtypes"
   ]
  },
  {
   "cell_type": "markdown",
   "metadata": {},
   "source": [
    "## Construct Graph with cuGraph"
   ]
  },
  {
   "cell_type": "markdown",
   "metadata": {},
   "source": [
    "Now that we have `graph_prep` prepped correctly, we can use cuGraph to create our graph, which we can then use for accelerated analysis. In order to do so, we first use cuGraph to instantiate a `Graph` instance, and then initialize it with edge sources, edge destinations, and edge weights, which for our data will be the length of the roads:"
   ]
  },
  {
   "cell_type": "code",
   "execution_count": null,
   "metadata": {},
   "outputs": [],
   "source": [
    "G = cg.Graph()\n",
    "%time G.from_cudf_edgelist(graph_prep, source='src', destination='dst', edge_attr='length')"
   ]
  },
  {
   "cell_type": "markdown",
   "metadata": {},
   "source": [
    "You can see how fast the whole preparation and construction process can be, even starting from the beginning, by restarting the kernel, clicking on this text, and then selecting \"Run All Above Selected Cell\" from the Run menu (should take under ten seconds).\n",
    "\n",
    "Just as a point of comparison, we also construct the equivalent graph in NetworkX from the equivalent cleaned and prepped Pandas dataframe. This should take a minute or so - feel free to read ahead while it processes."
   ]
  },
  {
   "cell_type": "code",
   "execution_count": null,
   "metadata": {},
   "outputs": [],
   "source": [
    "graph_prep_cpu = graph_prep.to_pandas()\n",
    "\n",
    "%time G_cpu = nx.convert_matrix.from_pandas_edgelist(graph_prep_cpu, source='src', target='dst', edge_attr='length')"
   ]
  },
  {
   "cell_type": "markdown",
   "metadata": {},
   "source": [
    "### Analyzing the Graph"
   ]
  },
  {
   "cell_type": "markdown",
   "metadata": {},
   "source": [
    "Now that we have created the graph we can analyze the number of nodes and edges in it:"
   ]
  },
  {
   "cell_type": "code",
   "execution_count": null,
   "metadata": {},
   "outputs": [],
   "source": [
    "G.number_of_nodes()"
   ]
  },
  {
   "cell_type": "code",
   "execution_count": null,
   "metadata": {},
   "outputs": [],
   "source": [
    "G.number_of_edges()"
   ]
  },
  {
   "cell_type": "markdown",
   "metadata": {},
   "source": [
    "We can also analyze the degrees of our graph nodes:"
   ]
  },
  {
   "cell_type": "code",
   "execution_count": null,
   "metadata": {},
   "outputs": [],
   "source": [
    "deg_df = G.degree()"
   ]
  },
  {
   "cell_type": "markdown",
   "metadata": {},
   "source": [
    "We duplicated every edge to make the graph undirected, so we expect the nodes to have a minimum degree of 2:"
   ]
  },
  {
   "cell_type": "code",
   "execution_count": null,
   "metadata": {},
   "outputs": [],
   "source": [
    "deg_df['degree'].describe()[1:]"
   ]
  },
  {
   "cell_type": "markdown",
   "metadata": {},
   "source": [
    "You will spend more time using this GPU-accelerated graph later in the workshop."
   ]
  },
  {
   "cell_type": "markdown",
   "metadata": {},
   "source": [
    "## Exercise: Construct a Graph of Roads with Time Weights"
   ]
  },
  {
   "cell_type": "markdown",
   "metadata": {},
   "source": [
    "For this series of exercises, you are going to construct and analyze a new graph of Great Britain's roads using the techniques just demonstrated, but this time, instead of using raw distance for the edges' weights, you will be using the time it will take to travel between the two nodes.\n",
    "\n",
    "You will be beginning this exercise with the `road_edges` dataframe from earlier, which already contains the unique int32 `graph_id`s we need for graph construction in `graph_src` and `graph_dst`:"
   ]
  },
  {
   "cell_type": "code",
   "execution_count": null,
   "metadata": {},
   "outputs": [],
   "source": [
    "road_edges.dtypes"
   ]
  },
  {
   "cell_type": "markdown",
   "metadata": {},
   "source": [
    "### Road Type to Speed Conversion"
   ]
  },
  {
   "cell_type": "markdown",
   "metadata": {},
   "source": [
    "In order to calculate how long it should take to travel along a road, we need to know its speed limit. We will do this by utilizing `road_edges['type']`, along with rules for the speed limits for each type of road.\n",
    "\n",
    "Here are the unique types of roads in our data:"
   ]
  },
  {
   "cell_type": "code",
   "execution_count": null,
   "metadata": {},
   "outputs": [],
   "source": [
    "road_edges['type'].unique()"
   ]
  },
  {
   "cell_type": "markdown",
   "metadata": {},
   "source": [
    "And here is a table with assumptions about speed limits we can use for our conversion:"
   ]
  },
  {
   "cell_type": "code",
   "execution_count": null,
   "metadata": {},
   "outputs": [],
   "source": [
    "# https://www.rac.co.uk/drive/advice/legal/speed-limits/\n",
    "# Technically, speed limits depend on whether a road is in a built-up area and the form of carriageway,\n",
    "# but we can use road type as a proxy for built-up areas.\n",
    "# Values are in mph.\n",
    "\n",
    "speed_limits = {'Motorway': 70,\n",
    "               'A Road': 60,\n",
    "               'B Road': 60,\n",
    "               'Local Road': 30,\n",
    "               'Local Access Road': 30,\n",
    "               'Minor Road': 30,\n",
    "               'Restricted Local Access Road': 30,\n",
    "               'Secondary Access Road': 30}"
   ]
  },
  {
   "cell_type": "markdown",
   "metadata": {},
   "source": [
    "We begin by creating `speed_gdf` to store each road type with its speed limit:"
   ]
  },
  {
   "cell_type": "code",
   "execution_count": null,
   "metadata": {},
   "outputs": [],
   "source": [
    "speed_gdf = cudf.DataFrame()\n",
    "\n",
    "speed_gdf['type'] = speed_limits.keys()\n",
    "speed_gdf['limit_mph'] = [speed_limits[key] for key in speed_limits.keys()]\n",
    "speed_gdf"
   ]
  },
  {
   "cell_type": "markdown",
   "metadata": {},
   "source": [
    "Next we add an additional column, `limit_m/s`, which for each road type will give us a measure of how fast one can travel on it in meters / second."
   ]
  },
  {
   "cell_type": "code",
   "execution_count": null,
   "metadata": {},
   "outputs": [],
   "source": [
    "# We will have road distances in meters (m), so to get road distances in seconds (s), we need to multiply by meters/mile and divide by seconds/hour\n",
    "# 1 mile ~ 1609.34 m\n",
    "speed_gdf['limit_m/s'] = speed_gdf['limit_mph'] * 1609.34 / 3600\n",
    "speed_gdf"
   ]
  },
  {
   "cell_type": "markdown",
   "metadata": {},
   "source": [
    "### Step 1: Merge `speed_gdf` into `road_edges`"
   ]
  },
  {
   "cell_type": "markdown",
   "metadata": {},
   "source": [
    "Since we will be using values in `road_edges` to construct our graph, we need to merge `speed_gdf` into `road_edges`. You can join on the `type` column, which both of these dataframes share."
   ]
  },
  {
   "cell_type": "code",
   "execution_count": null,
   "metadata": {},
   "outputs": [],
   "source": []
  },
  {
   "cell_type": "markdown",
   "metadata": {},
   "source": [
    "#### Solution"
   ]
  },
  {
   "cell_type": "code",
   "execution_count": null,
   "metadata": {},
   "outputs": [],
   "source": [
    "%load solutions/merge_speed_gdf"
   ]
  },
  {
   "cell_type": "markdown",
   "metadata": {},
   "source": [
    "### Step 2: Add Length in Seconds Column"
   ]
  },
  {
   "cell_type": "markdown",
   "metadata": {},
   "source": [
    "You now need to calculate the number of seconds it will take to traverse a given road at the speed limit. This can be done by dividing a road's length in m by its speed limit in m/s. Perform this calculation on `road_edges` and store the results in a new column `length_s`."
   ]
  },
  {
   "cell_type": "code",
   "execution_count": null,
   "metadata": {},
   "outputs": [],
   "source": []
  },
  {
   "cell_type": "markdown",
   "metadata": {},
   "source": [
    "#### Solution"
   ]
  },
  {
   "cell_type": "code",
   "execution_count": null,
   "metadata": {},
   "outputs": [],
   "source": [
    "%load solutions/length_in_seconds"
   ]
  },
  {
   "cell_type": "markdown",
   "metadata": {},
   "source": [
    "### Step 3: Construct a Prep Dataframe"
   ]
  },
  {
   "cell_type": "markdown",
   "metadata": {},
   "source": [
    "Make a new dataframe called `exercise_graph`, add to it three columns: `src`, `dst`, and `length_s`, all which you can obtain from `road_edges`."
   ]
  },
  {
   "cell_type": "code",
   "execution_count": null,
   "metadata": {},
   "outputs": [],
   "source": []
  },
  {
   "cell_type": "markdown",
   "metadata": {},
   "source": [
    "#### Solution"
   ]
  },
  {
   "cell_type": "code",
   "execution_count": null,
   "metadata": {},
   "outputs": [],
   "source": [
    "%load solutions/prep_dataframe"
   ]
  },
  {
   "cell_type": "markdown",
   "metadata": {},
   "source": [
    "### Step 4: Make the Edges Undirected"
   ]
  },
  {
   "cell_type": "markdown",
   "metadata": {},
   "source": [
    "Make `exercise_graph` undirected by creating a dataframe where `src` and `dst` are reversed, and then concatenating it with `exercise_graph`. Be sure to drop any rows that duplicate other rows' `src` and `dst` values."
   ]
  },
  {
   "cell_type": "code",
   "execution_count": null,
   "metadata": {},
   "outputs": [],
   "source": []
  },
  {
   "cell_type": "markdown",
   "metadata": {},
   "source": [
    "#### Solution"
   ]
  },
  {
   "cell_type": "code",
   "execution_count": null,
   "metadata": {},
   "outputs": [],
   "source": [
    "%load solutions/make_undirected"
   ]
  },
  {
   "cell_type": "markdown",
   "metadata": {},
   "source": [
    "### Step 5: Construct the Graph"
   ]
  },
  {
   "cell_type": "markdown",
   "metadata": {},
   "source": [
    "Construct a cuGraph Graph called `G_ex` using the sources and destinations found in `exercise_graph`, along with length in seconds values for the edges' weights."
   ]
  },
  {
   "cell_type": "code",
   "execution_count": null,
   "metadata": {},
   "outputs": [],
   "source": []
  },
  {
   "cell_type": "markdown",
   "metadata": {},
   "source": [
    "#### Solution"
   ]
  },
  {
   "cell_type": "code",
   "execution_count": null,
   "metadata": {},
   "outputs": [],
   "source": [
    "%load solutions/construct_graph"
   ]
  },
  {
   "cell_type": "markdown",
   "metadata": {},
   "source": [
    "<br>\n",
    "<div align=\"center\"><h2>Please Restart the Kernel</h2></div>"
   ]
  },
  {
   "cell_type": "code",
   "execution_count": null,
   "metadata": {},
   "outputs": [],
   "source": [
    "import IPython\n",
    "app = IPython.Application.instance()\n",
    "app.kernel.do_shutdown(True)"
   ]
  },
  {
   "cell_type": "markdown",
   "metadata": {},
   "source": [
    "## Next"
   ]
  },
  {
   "cell_type": "markdown",
   "metadata": {},
   "source": [
    "In the next notebook you will work with a dataset representing a population 5 times larger than the UK, a dataset that would not fit in the memory of a single GPU. In order to work with this data you will use Dask cuDF to partition the data among the 4 GPUs at your disposal, and perform the same kinds of data manipulations you have been doing with vanilla cuDF on smaller, single-GPU datasets."
   ]
  }
 ],
 "metadata": {
  "kernelspec": {
   "display_name": "Python 3",
   "language": "python",
   "name": "python3"
  },
  "language_info": {
   "codemirror_mode": {
    "name": "ipython",
    "version": 3
   },
   "file_extension": ".py",
   "mimetype": "text/x-python",
   "name": "python",
   "nbconvert_exporter": "python",
   "pygments_lexer": "ipython3",
   "version": "3.6.7"
  }
 },
 "nbformat": 4,
 "nbformat_minor": 4
}
