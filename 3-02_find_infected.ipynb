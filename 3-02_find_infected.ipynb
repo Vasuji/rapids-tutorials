{
 "cells": [
  {
   "cell_type": "markdown",
   "metadata": {},
   "source": [
    "# Week 1: Find Clusters of Infected People"
   ]
  },
  {
   "cell_type": "markdown",
   "metadata": {},
   "source": [
    "<span style=\"color:red\">\n",
    "**URGENT WARNING**\n",
    "\n",
    "We have been receiving reports from health facilities that a new, fast-spreading virus has been discovered in the population. To prepare our response, we need to understand the geospatial distribution of those who have been infected. Find out whether there are identifiable clusters of infected individuals and where they are.    \n",
    "</span>\n",
    "\n",
    "Your goal for this notebook will be to estimate the location of dense geographic clusters of infected people using incoming data from week 1 of the simulated epidemic."
   ]
  },
  {
   "cell_type": "markdown",
   "metadata": {},
   "source": [
    "## Imports"
   ]
  },
  {
   "cell_type": "code",
   "execution_count": 27,
   "metadata": {},
   "outputs": [],
   "source": [
    "import cudf\n",
    "import cuml\n",
    "\n",
    "import cupy as cp"
   ]
  },
  {
   "cell_type": "markdown",
   "metadata": {},
   "source": [
    "## Load Data"
   ]
  },
  {
   "cell_type": "markdown",
   "metadata": {},
   "source": [
    "Begin by loading the data you've received about week 1 of the outbreak into a cuDF data frame. The data is located at `'./data/week1.csv'`. For this notebook you will only need the `'lat'`, `'long'`, and `'infected'` columns. Either drop the columns after loading, or use the `cudf.read_csv` named argument `usecols` to provide a list of only the columns you need."
   ]
  },
  {
   "cell_type": "code",
   "execution_count": 28,
   "metadata": {},
   "outputs": [
    {
     "data": {
      "text/plain": [
       "age             int64\n",
       "sex            object\n",
       "lat           float64\n",
       "long          float64\n",
       "employment     object\n",
       "infected         bool\n",
       "dtype: object"
      ]
     },
     "execution_count": 28,
     "metadata": {},
     "output_type": "execute_result"
    }
   ],
   "source": [
    "gdf = cudf.read_csv('./data/week1.csv')\n",
    "gdf.dtypes"
   ]
  },
  {
   "cell_type": "markdown",
   "metadata": {},
   "source": [
    "## Make Data Frame of the Infected"
   ]
  },
  {
   "cell_type": "markdown",
   "metadata": {},
   "source": [
    "Make a new cuDF data frame `infected_df` that contains only the infected members of the population."
   ]
  },
  {
   "cell_type": "code",
   "execution_count": 29,
   "metadata": {},
   "outputs": [
    {
     "data": {
      "text/html": [
       "<div>\n",
       "<style scoped>\n",
       "    .dataframe tbody tr th:only-of-type {\n",
       "        vertical-align: middle;\n",
       "    }\n",
       "\n",
       "    .dataframe tbody tr th {\n",
       "        vertical-align: top;\n",
       "    }\n",
       "\n",
       "    .dataframe thead th {\n",
       "        text-align: right;\n",
       "    }\n",
       "</style>\n",
       "<table border=\"1\" class=\"dataframe\">\n",
       "  <thead>\n",
       "    <tr style=\"text-align: right;\">\n",
       "      <th></th>\n",
       "      <th>age</th>\n",
       "      <th>sex</th>\n",
       "      <th>lat</th>\n",
       "      <th>long</th>\n",
       "      <th>employment</th>\n",
       "      <th>infected</th>\n",
       "    </tr>\n",
       "  </thead>\n",
       "  <tbody>\n",
       "    <tr>\n",
       "      <th>28928759</th>\n",
       "      <td>44</td>\n",
       "      <td>f</td>\n",
       "      <td>54.472766</td>\n",
       "      <td>-1.654932</td>\n",
       "      <td>Q</td>\n",
       "      <td>True</td>\n",
       "    </tr>\n",
       "    <tr>\n",
       "      <th>28930512</th>\n",
       "      <td>47</td>\n",
       "      <td>f</td>\n",
       "      <td>54.529717</td>\n",
       "      <td>-1.667143</td>\n",
       "      <td>Q</td>\n",
       "      <td>True</td>\n",
       "    </tr>\n",
       "    <tr>\n",
       "      <th>28930904</th>\n",
       "      <td>47</td>\n",
       "      <td>f</td>\n",
       "      <td>54.512986</td>\n",
       "      <td>-1.589866</td>\n",
       "      <td>I</td>\n",
       "      <td>True</td>\n",
       "    </tr>\n",
       "    <tr>\n",
       "      <th>28932226</th>\n",
       "      <td>49</td>\n",
       "      <td>f</td>\n",
       "      <td>54.522322</td>\n",
       "      <td>-1.380694</td>\n",
       "      <td>Q</td>\n",
       "      <td>True</td>\n",
       "    </tr>\n",
       "    <tr>\n",
       "      <th>28933748</th>\n",
       "      <td>51</td>\n",
       "      <td>f</td>\n",
       "      <td>54.541660</td>\n",
       "      <td>-1.613490</td>\n",
       "      <td>Q</td>\n",
       "      <td>True</td>\n",
       "    </tr>\n",
       "  </tbody>\n",
       "</table>\n",
       "</div>"
      ],
      "text/plain": [
       "          age sex        lat      long employment  infected\n",
       "28928759   44   f  54.472766 -1.654932          Q      True\n",
       "28930512   47   f  54.529717 -1.667143          Q      True\n",
       "28930904   47   f  54.512986 -1.589866          I      True\n",
       "28932226   49   f  54.522322 -1.380694          Q      True\n",
       "28933748   51   f  54.541660 -1.613490          Q      True"
      ]
     },
     "execution_count": 29,
     "metadata": {},
     "output_type": "execute_result"
    }
   ],
   "source": [
    "idf = gdf[gdf['infected'] == True]\n",
    "idf.head()"
   ]
  },
  {
   "cell_type": "markdown",
   "metadata": {},
   "source": [
    "## Make Grid Coordinates for Infected Locations"
   ]
  },
  {
   "cell_type": "markdown",
   "metadata": {},
   "source": [
    "Provided for you in the next cell (which you can expand by clicking on the \"...\" and contract again after executing by clicking on the blue left border of the cell) is the lat/long to OSGB36 grid coordinates converter you used earlier in the workshop. Use this converter to create grid coordinate values stored in `northing` and `easting` columns of the `infected_df` you created in the last step."
   ]
  },
  {
   "cell_type": "code",
   "execution_count": 30,
   "metadata": {},
   "outputs": [],
   "source": [
    "# https://www.ordnancesurvey.co.uk/docs/support/guide-coordinate-systems-great-britain.pdf\n",
    "\n",
    "def latlong2osgbgrid_cupy(lat, long, input_degrees=True):\n",
    "    '''\n",
    "    Converts latitude and longitude (ellipsoidal) coordinates into northing and easting (grid) coordinates, using a Transverse Mercator projection.\n",
    "    \n",
    "    Inputs:\n",
    "    lat: latitude coordinate (N)\n",
    "    long: longitude coordinate (E)\n",
    "    input_degrees: if True (default), interprets the coordinates as degrees; otherwise, interprets coordinates as radians\n",
    "    \n",
    "    Output:\n",
    "    (northing, easting)\n",
    "    '''\n",
    "    \n",
    "    if input_degrees:\n",
    "        lat = lat * cp.pi/180\n",
    "        long = long * cp.pi/180\n",
    "\n",
    "    a = 6377563.396\n",
    "    b = 6356256.909\n",
    "    e2 = (a**2 - b**2) / a**2\n",
    "\n",
    "    N0 = -100000 # northing of true origin\n",
    "    E0 = 400000 # easting of true origin\n",
    "    F0 = .9996012717 # scale factor on central meridian\n",
    "    phi0 = 49 * cp.pi / 180 # latitude of true origin\n",
    "    lambda0 = -2 * cp.pi / 180 # longitude of true origin and central meridian\n",
    "    \n",
    "    sinlat = cp.sin(lat)\n",
    "    coslat = cp.cos(lat)\n",
    "    tanlat = cp.tan(lat)\n",
    "    \n",
    "    latdiff = lat-phi0\n",
    "    longdiff = long-lambda0\n",
    "\n",
    "    n = (a-b) / (a+b)\n",
    "    nu = a * F0 * (1 - e2 * sinlat ** 2) ** -.5\n",
    "    rho = a * F0 * (1 - e2) * (1 - e2 * sinlat ** 2) ** -1.5\n",
    "    eta2 = nu / rho - 1\n",
    "    M = b * F0 * ((1 + n + 5/4 * (n**2 + n**3)) * latdiff - \n",
    "                  (3*(n+n**2) + 21/8 * n**3) * cp.sin(latdiff) * cp.cos(lat+phi0) +\n",
    "                  15/8 * (n**2 + n**3) * cp.sin(2*(latdiff)) * cp.cos(2*(lat+phi0)) - \n",
    "                  35/24 * n**3 * cp.sin(3*(latdiff)) * cp.cos(3*(lat+phi0)))\n",
    "    I = M + N0\n",
    "    II = nu/2 * sinlat * coslat\n",
    "    III = nu/24 * sinlat * coslat ** 3 * (5 - tanlat ** 2 + 9 * eta2)\n",
    "    IIIA = nu/720 * sinlat * coslat ** 5 * (61-58 * tanlat**2 + tanlat**4)\n",
    "    IV = nu * coslat\n",
    "    V = nu / 6 * coslat**3 * (nu/rho - cp.tan(lat)**2)\n",
    "    VI = nu / 120 * coslat ** 5 * (5 - 18 * tanlat**2 + tanlat**4 + 14 * eta2 - 58 * tanlat**2 * eta2)\n",
    "\n",
    "    northing = I + II * longdiff**2 + III * longdiff**4 + IIIA * longdiff**6\n",
    "    easting = E0 + IV * longdiff + V * longdiff**3 + VI * longdiff**5\n",
    "\n",
    "    return(northing, easting)"
   ]
  },
  {
   "cell_type": "code",
   "execution_count": 31,
   "metadata": {},
   "outputs": [
    {
     "name": "stdout",
     "output_type": "stream",
     "text": [
      "age             int64\n",
      "sex            object\n",
      "lat           float64\n",
      "long          float64\n",
      "employment     object\n",
      "infected         bool\n",
      "northing      float64\n",
      "easting       float64\n",
      "dtype: object\n"
     ]
    },
    {
     "data": {
      "text/html": [
       "<div>\n",
       "<style scoped>\n",
       "    .dataframe tbody tr th:only-of-type {\n",
       "        vertical-align: middle;\n",
       "    }\n",
       "\n",
       "    .dataframe tbody tr th {\n",
       "        vertical-align: top;\n",
       "    }\n",
       "\n",
       "    .dataframe thead th {\n",
       "        text-align: right;\n",
       "    }\n",
       "</style>\n",
       "<table border=\"1\" class=\"dataframe\">\n",
       "  <thead>\n",
       "    <tr style=\"text-align: right;\">\n",
       "      <th></th>\n",
       "      <th>age</th>\n",
       "      <th>sex</th>\n",
       "      <th>lat</th>\n",
       "      <th>long</th>\n",
       "      <th>employment</th>\n",
       "      <th>infected</th>\n",
       "      <th>northing</th>\n",
       "      <th>easting</th>\n",
       "    </tr>\n",
       "  </thead>\n",
       "  <tbody>\n",
       "    <tr>\n",
       "      <th>28928759</th>\n",
       "      <td>44</td>\n",
       "      <td>f</td>\n",
       "      <td>54.472766</td>\n",
       "      <td>-1.654932</td>\n",
       "      <td>Q</td>\n",
       "      <td>True</td>\n",
       "      <td>508670.609840</td>\n",
       "      <td>422359.755045</td>\n",
       "    </tr>\n",
       "    <tr>\n",
       "      <th>28930512</th>\n",
       "      <td>47</td>\n",
       "      <td>f</td>\n",
       "      <td>54.529717</td>\n",
       "      <td>-1.667143</td>\n",
       "      <td>Q</td>\n",
       "      <td>True</td>\n",
       "      <td>515003.077956</td>\n",
       "      <td>421538.534748</td>\n",
       "    </tr>\n",
       "    <tr>\n",
       "      <th>28930904</th>\n",
       "      <td>47</td>\n",
       "      <td>f</td>\n",
       "      <td>54.512986</td>\n",
       "      <td>-1.589866</td>\n",
       "      <td>I</td>\n",
       "      <td>True</td>\n",
       "      <td>513167.686551</td>\n",
       "      <td>426549.869615</td>\n",
       "    </tr>\n",
       "    <tr>\n",
       "      <th>28932226</th>\n",
       "      <td>49</td>\n",
       "      <td>f</td>\n",
       "      <td>54.522322</td>\n",
       "      <td>-1.380694</td>\n",
       "      <td>Q</td>\n",
       "      <td>True</td>\n",
       "      <td>514305.903560</td>\n",
       "      <td>440081.214659</td>\n",
       "    </tr>\n",
       "    <tr>\n",
       "      <th>28933748</th>\n",
       "      <td>51</td>\n",
       "      <td>f</td>\n",
       "      <td>54.541660</td>\n",
       "      <td>-1.613490</td>\n",
       "      <td>Q</td>\n",
       "      <td>True</td>\n",
       "      <td>516349.568138</td>\n",
       "      <td>425002.994784</td>\n",
       "    </tr>\n",
       "  </tbody>\n",
       "</table>\n",
       "</div>"
      ],
      "text/plain": [
       "          age sex        lat      long employment  infected       northing  \\\n",
       "28928759   44   f  54.472766 -1.654932          Q      True  508670.609840   \n",
       "28930512   47   f  54.529717 -1.667143          Q      True  515003.077956   \n",
       "28930904   47   f  54.512986 -1.589866          I      True  513167.686551   \n",
       "28932226   49   f  54.522322 -1.380694          Q      True  514305.903560   \n",
       "28933748   51   f  54.541660 -1.613490          Q      True  516349.568138   \n",
       "\n",
       "                easting  \n",
       "28928759  422359.755045  \n",
       "28930512  421538.534748  \n",
       "28930904  426549.869615  \n",
       "28932226  440081.214659  \n",
       "28933748  425002.994784  "
      ]
     },
     "execution_count": 31,
     "metadata": {},
     "output_type": "execute_result"
    }
   ],
   "source": [
    "cupy_lat = cp.asarray(idf['lat']).astype('float32')\n",
    "cupy_long = cp.asarray(idf['long']).astype('float32')\n",
    "\n",
    "n_cupy_array, e_cupy_array = latlong2osgbgrid_cupy(cupy_lat, cupy_long)\n",
    "idf['northing'] = n_cupy_array\n",
    "idf['easting'] = e_cupy_array\n",
    "print(idf.dtypes)\n",
    "idf.head()"
   ]
  },
  {
   "cell_type": "markdown",
   "metadata": {},
   "source": [
    "## Find Clusters of Infected People"
   ]
  },
  {
   "cell_type": "markdown",
   "metadata": {},
   "source": [
    "Use DBSCAN to find clusters of at least 25 infected people where no member is more than 2000m from at least one other cluster member. Create a new column in `infected_df` which contains the cluster to which each infected person belongs."
   ]
  },
  {
   "cell_type": "code",
   "execution_count": 32,
   "metadata": {},
   "outputs": [],
   "source": [
    "dbscan = cuml.DBSCAN(eps=2000,min_samples=25)"
   ]
  },
  {
   "cell_type": "code",
   "execution_count": 33,
   "metadata": {},
   "outputs": [
    {
     "data": {
      "text/plain": [
       "15"
      ]
     },
     "execution_count": 33,
     "metadata": {},
     "output_type": "execute_result"
    }
   ],
   "source": [
    "idf = idf.reset_index()\n",
    "idf['cluster'] = dbscan.fit_predict(idf[['northing', 'easting']])\n",
    "idf['cluster'].nunique()"
   ]
  },
  {
   "cell_type": "markdown",
   "metadata": {},
   "source": [
    "## Find the Centroid of Each Cluster"
   ]
  },
  {
   "cell_type": "markdown",
   "metadata": {},
   "source": [
    "Use grouping to find the mean `northing` and `easting` values for each cluster identified above."
   ]
  },
  {
   "cell_type": "code",
   "execution_count": 34,
   "metadata": {},
   "outputs": [
    {
     "name": "stdout",
     "output_type": "stream",
     "text": [
      "                index        age        lat      long  infected  \\\n",
      "cluster                                                           \n",
      "-1       3.657785e+07  53.981063  53.297945 -1.971517       1.0   \n",
      " 0       3.220240e+07  56.509377  53.474320 -2.430641       1.0   \n",
      " 1       3.048226e+07  51.000000  53.820015 -3.018155       1.0   \n",
      " 2       3.871062e+07  56.838710  53.020434 -2.158237       1.0   \n",
      " 3       3.054640e+07  62.560000  53.133494 -2.304379       1.0   \n",
      " 4       3.540537e+07  51.924242  53.420287 -1.531111       1.0   \n",
      " 5       3.559005e+07  54.674419  53.374166 -1.600748       1.0   \n",
      " 6       3.574127e+07  51.370370  53.810761 -1.893906       1.0   \n",
      " 7       3.596570e+07  54.794872  53.611172 -1.847781       1.0   \n",
      " 8       3.595117e+07  53.106383  53.638340 -1.776648       1.0   \n",
      " 9       3.604745e+07  54.190476  53.652081 -1.854987       1.0   \n",
      " 10      3.697812e+07  51.234375  52.903786 -1.465629       1.0   \n",
      " 11      4.168032e+07  51.250000  52.602480 -2.119587       1.0   \n",
      " 12      4.116284e+07  52.750000  52.521364 -1.975815       1.0   \n",
      " 13      4.121630e+07  52.380282  52.506191 -2.080768       1.0   \n",
      "\n",
      "              northing        easting  \n",
      "cluster                                \n",
      "-1       378085.754792  401877.065767  \n",
      " 0       397661.304987  371410.018703  \n",
      " 1       436475.655584  332980.451570  \n",
      " 2       347062.488769  389386.817110  \n",
      " 3       359668.898831  379638.015284  \n",
      " 4       391630.334255  431158.136899  \n",
      " 5       386471.539885  426559.086949  \n",
      " 6       434970.643042  406985.278683  \n",
      " 7       412772.945606  410069.660550  \n",
      " 8       415807.575316  414765.630293  \n",
      " 9       417322.762302  409583.734211  \n",
      " 10      334208.465300  435937.775829  \n",
      " 11      300568.141908  391901.509591  \n",
      " 12      291539.640465  401640.663144  \n",
      " 13      289855.065507  394518.290192  \n"
     ]
    }
   ],
   "source": [
    "cdf = idf.groupby(['cluster'])\n",
    "cdf_mean = cdf.mean()\n",
    "print(cdf_mean)"
   ]
  },
  {
   "cell_type": "markdown",
   "metadata": {},
   "source": [
    "Find the number of people in each cluster by counting the number of appearances of each cluster's label in the column produced by DBSCAN."
   ]
  },
  {
   "cell_type": "code",
   "execution_count": 35,
   "metadata": {},
   "outputs": [
    {
     "name": "stdout",
     "output_type": "stream",
     "text": [
      "         index   age   sex   lat  long  employment  infected  northing  \\\n",
      "cluster                                                                  \n",
      "-1        8449  8449  8449  8449  8449        8449      8449      8449   \n",
      " 0        8638  8638  8638  8638  8638        8638      8638      8638   \n",
      " 1          68    68    68    68    68          68        68        68   \n",
      " 2         403   403   403   403   403         403       403       403   \n",
      " 3          25    25    25    25    25          25        25        25   \n",
      " 4          66    66    66    66    66          66        66        66   \n",
      " 5          43    43    43    43    43          43        43        43   \n",
      " 6          27    27    27    27    27          27        27        27   \n",
      " 7          39    39    39    39    39          39        39        39   \n",
      " 8          94    94    94    94    94          94        94        94   \n",
      " 9          21    21    21    21    21          21        21        21   \n",
      " 10         64    64    64    64    64          64        64        64   \n",
      " 11         68    68    68    68    68          68        68        68   \n",
      " 12         72    72    72    72    72          72        72        72   \n",
      " 13         71    71    71    71    71          71        71        71   \n",
      "\n",
      "         easting  \n",
      "cluster           \n",
      "-1          8449  \n",
      " 0          8638  \n",
      " 1            68  \n",
      " 2           403  \n",
      " 3            25  \n",
      " 4            66  \n",
      " 5            43  \n",
      " 6            27  \n",
      " 7            39  \n",
      " 8            94  \n",
      " 9            21  \n",
      " 10           64  \n",
      " 11           68  \n",
      " 12           72  \n",
      " 13           71  \n"
     ]
    }
   ],
   "source": [
    "cdf = idf.groupby(['cluster'])\n",
    "cdf_count = cdf.count()\n",
    "print(cdf_count)"
   ]
  },
  {
   "cell_type": "markdown",
   "metadata": {},
   "source": [
    "## Take the Assessment"
   ]
  },
  {
   "cell_type": "markdown",
   "metadata": {},
   "source": [
    "After completing the work above, visit the *Launch Section* web page that you used to launch this Jupyter Lab. Scroll down below where you launched Jupyter Lab, and answer the question *Week 1 Assessment*. You can view your overall progress in the assessment by visiting the same *Launch Section* page and clicking on the link to the *Progress* page.\n",
    "\n",
    "There will be additional questions for you to answer after completing the remaining notebooks. On the *Progress* page, if you have successfully answered all the assessment questions, you can click on *Generate Certificate* to receive your certificate in the course."
   ]
  },
  {
   "cell_type": "markdown",
   "metadata": {},
   "source": [
    "![launch_task_page](./images/launch_task_page.png)"
   ]
  },
  {
   "cell_type": "markdown",
   "metadata": {},
   "source": [
    "<div align=\"center\"><h2>Please Restart the Kernel</h2></div>"
   ]
  },
  {
   "cell_type": "code",
   "execution_count": null,
   "metadata": {},
   "outputs": [],
   "source": [
    "import IPython\n",
    "app = IPython.Application.instance()\n",
    "app.kernel.do_shutdown(True)"
   ]
  }
 ],
 "metadata": {
  "kernelspec": {
   "display_name": "Python 3",
   "language": "python",
   "name": "python3"
  },
  "language_info": {
   "codemirror_mode": {
    "name": "ipython",
    "version": 3
   },
   "file_extension": ".py",
   "mimetype": "text/x-python",
   "name": "python",
   "nbconvert_exporter": "python",
   "pygments_lexer": "ipython3",
   "version": "3.7.8"
  }
 },
 "nbformat": 4,
 "nbformat_minor": 4
}
